{
 "cells": [
  {
   "cell_type": "code",
   "execution_count": 1,
   "metadata": {},
   "outputs": [],
   "source": [
    "import torch\n",
    "from torch.utils.data import DataLoader\n",
    "from dataset import *\n",
    "from modules import *\n",
    "from train import *"
   ]
  },
  {
   "cell_type": "code",
   "execution_count": 2,
   "metadata": {},
   "outputs": [
    {
     "name": "stdout",
     "output_type": "stream",
     "text": [
      "[('C:/Users/Jun Khai/Documents/Uni/Year 5 Sem 2/PatternAnalysis-2023/recognition/45816967_ADNI_Vision_Transformer/data/ADNI_AD_NC_2D/AD_NC/train/AD/*', 1), ('C:/Users/Jun Khai/Documents/Uni/Year 5 Sem 2/PatternAnalysis-2023/recognition/45816967_ADNI_Vision_Transformer/data/ADNI_AD_NC_2D/AD_NC/train/NC/*', 0)]\n",
      "[('C:/Users/Jun Khai/Documents/Uni/Year 5 Sem 2/PatternAnalysis-2023/recognition/45816967_ADNI_Vision_Transformer/data/ADNI_AD_NC_2D/AD_NC/test/AD/*', 1), ('C:/Users/Jun Khai/Documents/Uni/Year 5 Sem 2/PatternAnalysis-2023/recognition/45816967_ADNI_Vision_Transformer/data/ADNI_AD_NC_2D/AD_NC/test/NC/*', 0)]\n",
      "[('C:/Users/Jun Khai/Documents/Uni/Year 5 Sem 2/PatternAnalysis-2023/recognition/45816967_ADNI_Vision_Transformer/data/ADNI_AD_NC_2D/AD_NC/train/AD/*', 1), ('C:/Users/Jun Khai/Documents/Uni/Year 5 Sem 2/PatternAnalysis-2023/recognition/45816967_ADNI_Vision_Transformer/data/ADNI_AD_NC_2D/AD_NC/train/NC/*', 0)]\n",
      "[('C:/Users/Jun Khai/Documents/Uni/Year 5 Sem 2/PatternAnalysis-2023/recognition/45816967_ADNI_Vision_Transformer/data/ADNI_AD_NC_2D/AD_NC/test/AD/*', 1), ('C:/Users/Jun Khai/Documents/Uni/Year 5 Sem 2/PatternAnalysis-2023/recognition/45816967_ADNI_Vision_Transformer/data/ADNI_AD_NC_2D/AD_NC/test/NC/*', 0)]\n"
     ]
    }
   ],
   "source": [
    "train_set, val_set, test_set = generate_adni_datasets(datasplit=0.1)\n",
    "\n",
    "train_loader = DataLoader(train_set, shuffle=True, batch_size=128)\n",
    "val_loader = DataLoader(val_set, shuffle=True, batch_size=128)\n",
    "test_loader = DataLoader(test_set, shuffle=False, batch_size=128)"
   ]
  },
  {
   "cell_type": "code",
   "execution_count": 3,
   "metadata": {},
   "outputs": [
    {
     "data": {
      "text/plain": [
       "========================================================================================================================\n",
       "Layer (type (var_name))                  Input Shape          Output Shape         Param #              Trainable\n",
       "========================================================================================================================\n",
       "ViT (ViT)                                [128, 1, 192, 192]   [128, 2]             66,048               True\n",
       "├─PatchEmbedding (patch_embedding)       [128, 1, 192, 192]   [128, 256, 256]      --                   True\n",
       "│    └─Conv2d (patcher)                  [128, 1, 192, 192]   [128, 256, 16, 16]   37,120               True\n",
       "│    └─Flatten (flatten)                 [128, 256, 16, 16]   [128, 256, 256]      --                   --\n",
       "├─Dropout (embedding_dropout)            [128, 257, 256]      [128, 257, 256]      --                   --\n",
       "├─Sequential (transformer_encoder)       [128, 257, 256]      [128, 257, 256]      --                   True\n",
       "│    └─TransformerEncoderLayer (0)       [128, 257, 256]      [128, 257, 256]      395,776              True\n",
       "│    └─TransformerEncoderLayer (1)       [128, 257, 256]      [128, 257, 256]      395,776              True\n",
       "│    └─TransformerEncoderLayer (2)       [128, 257, 256]      [128, 257, 256]      395,776              True\n",
       "│    └─TransformerEncoderLayer (3)       [128, 257, 256]      [128, 257, 256]      395,776              True\n",
       "│    └─TransformerEncoderLayer (4)       [128, 257, 256]      [128, 257, 256]      395,776              True\n",
       "│    └─TransformerEncoderLayer (5)       [128, 257, 256]      [128, 257, 256]      395,776              True\n",
       "│    └─TransformerEncoderLayer (6)       [128, 257, 256]      [128, 257, 256]      395,776              True\n",
       "│    └─TransformerEncoderLayer (7)       [128, 257, 256]      [128, 257, 256]      395,776              True\n",
       "│    └─TransformerEncoderLayer (8)       [128, 257, 256]      [128, 257, 256]      395,776              True\n",
       "│    └─TransformerEncoderLayer (9)       [128, 257, 256]      [128, 257, 256]      395,776              True\n",
       "│    └─TransformerEncoderLayer (10)      [128, 257, 256]      [128, 257, 256]      395,776              True\n",
       "│    └─TransformerEncoderLayer (11)      [128, 257, 256]      [128, 257, 256]      395,776              True\n",
       "├─Sequential (classifier)                [128, 256]           [128, 2]             --                   True\n",
       "│    └─LayerNorm (0)                     [128, 256]           [128, 256]           512                  True\n",
       "│    └─Linear (1)                        [128, 256]           [128, 2]             514                  True\n",
       "│    └─Softmax (2)                       [128, 2]             [128, 2]             --                   --\n",
       "========================================================================================================================\n",
       "Total params: 4,853,506\n",
       "Trainable params: 4,853,506\n",
       "Non-trainable params: 0\n",
       "Total mult-adds (G): 1.22\n",
       "========================================================================================================================\n",
       "Input size (MB): 18.87\n",
       "Forward/backward pass size (MB): 67.37\n",
       "Params size (MB): 0.15\n",
       "Estimated Total Size (MB): 86.40\n",
       "========================================================================================================================"
      ]
     },
     "execution_count": 3,
     "metadata": {},
     "output_type": "execute_result"
    }
   ],
   "source": [
    "model = ViT(patch_size=16, num_transformer_layers=12, embedding_dim=256, mlp_size=256, num_heads=16).to(device)\n",
    "summary(model=model, \n",
    "\t\t\t\tinput_size=(128, 1, 224, 224),\n",
    "\t\t\t\tcol_names=[\"input_size\", \"output_size\", \"num_params\", \"trainable\"],\n",
    "\t\t\t\tcol_width=20,\n",
    "\t\t\t\trow_settings=[\"var_names\"]\n",
    "\t)"
   ]
  },
  {
   "cell_type": "code",
   "execution_count": 4,
   "metadata": {},
   "outputs": [
    {
     "name": "stdout",
     "output_type": "stream",
     "text": [
      "Using device:  cuda (NVIDIA GeForce RTX 3060 Ti)\n"
     ]
    },
    {
     "name": "stderr",
     "output_type": "stream",
     "text": [
      "                                                                      \r"
     ]
    },
    {
     "name": "stdout",
     "output_type": "stream",
     "text": [
      "Epoch 1/5 loss: 0.68\n",
      "Train accuracy: 55.12%\n"
     ]
    },
    {
     "name": "stderr",
     "output_type": "stream",
     "text": [
      "Validation: 100%|██████████| 17/17 [00:09<00:00,  1.72it/s]\n"
     ]
    },
    {
     "name": "stdout",
     "output_type": "stream",
     "text": [
      "Val loss: 0.68\n",
      "Val accuracy: 51.50%\n"
     ]
    },
    {
     "name": "stderr",
     "output_type": "stream",
     "text": [
      "Epoch 2 in training:  47%|████▋     | 71/152 [09:31<11:03,  8.19s/it]"
     ]
    }
   ],
   "source": [
    "\n",
    "train(model, train_loader, val_loader, n_epochs=5, lr = 0.000025, version_prefix=\"vit11\")"
   ]
  },
  {
   "cell_type": "code",
   "execution_count": null,
   "metadata": {},
   "outputs": [],
   "source": [
    "model2 = torch.load(\"models/vit2_model_12_0.5835193874020326.pth\")"
   ]
  },
  {
   "cell_type": "code",
   "execution_count": null,
   "metadata": {},
   "outputs": [
    {
     "name": "stderr",
     "output_type": "stream",
     "text": [
      "Testing:   0%|          | 0/71 [00:00<?, ?it/s]\n"
     ]
    },
    {
     "ename": "TypeError",
     "evalue": "'collections.OrderedDict' object is not callable",
     "output_type": "error",
     "traceback": [
      "\u001b[1;31m---------------------------------------------------------------------------\u001b[0m",
      "\u001b[1;31mTypeError\u001b[0m                                 Traceback (most recent call last)",
      "\u001b[1;32mc:\\Users\\Jun Khai\\Documents\\Uni\\Year 5 Sem 2\\PatternAnalysis-2023\\recognition\\45816967_ADNI_Vision_Transformer\\vittrain learnpytorch copy.ipynb Cell 6\u001b[0m line \u001b[0;36m7\n\u001b[0;32m      <a href='vscode-notebook-cell:/c%3A/Users/Jun%20Khai/Documents/Uni/Year%205%20Sem%202/PatternAnalysis-2023/recognition/45816967_ADNI_Vision_Transformer/vittrain%20learnpytorch%20copy.ipynb#W5sZmlsZQ%3D%3D?line=4'>5</a>\u001b[0m x, y \u001b[39m=\u001b[39m batch\n\u001b[0;32m      <a href='vscode-notebook-cell:/c%3A/Users/Jun%20Khai/Documents/Uni/Year%205%20Sem%202/PatternAnalysis-2023/recognition/45816967_ADNI_Vision_Transformer/vittrain%20learnpytorch%20copy.ipynb#W5sZmlsZQ%3D%3D?line=5'>6</a>\u001b[0m x, y \u001b[39m=\u001b[39m x\u001b[39m.\u001b[39mto(device), y\u001b[39m.\u001b[39mto(device)\n\u001b[1;32m----> <a href='vscode-notebook-cell:/c%3A/Users/Jun%20Khai/Documents/Uni/Year%205%20Sem%202/PatternAnalysis-2023/recognition/45816967_ADNI_Vision_Transformer/vittrain%20learnpytorch%20copy.ipynb#W5sZmlsZQ%3D%3D?line=6'>7</a>\u001b[0m y_hat \u001b[39m=\u001b[39m model2(x)\n\u001b[0;32m      <a href='vscode-notebook-cell:/c%3A/Users/Jun%20Khai/Documents/Uni/Year%205%20Sem%202/PatternAnalysis-2023/recognition/45816967_ADNI_Vision_Transformer/vittrain%20learnpytorch%20copy.ipynb#W5sZmlsZQ%3D%3D?line=7'>8</a>\u001b[0m loss \u001b[39m=\u001b[39m criterion(y_hat, y)\n\u001b[0;32m      <a href='vscode-notebook-cell:/c%3A/Users/Jun%20Khai/Documents/Uni/Year%205%20Sem%202/PatternAnalysis-2023/recognition/45816967_ADNI_Vision_Transformer/vittrain%20learnpytorch%20copy.ipynb#W5sZmlsZQ%3D%3D?line=8'>9</a>\u001b[0m test_loss \u001b[39m+\u001b[39m\u001b[39m=\u001b[39m loss\u001b[39m.\u001b[39mdetach()\u001b[39m.\u001b[39mcpu()\u001b[39m.\u001b[39mitem() \u001b[39m/\u001b[39m \u001b[39mlen\u001b[39m(test_loader)\n",
      "\u001b[1;31mTypeError\u001b[0m: 'collections.OrderedDict' object is not callable"
     ]
    }
   ],
   "source": [
    "with torch.no_grad():\n",
    "    correct, total = 0, 0\n",
    "    test_loss = 0.0\n",
    "    for batch in tqdm(test_loader, desc=\"Testing\"):\n",
    "        x, y = batch\n",
    "        x, y = x.to(device), y.to(device)\n",
    "        y_hat = model2(x)\n",
    "        loss = criterion(y_hat, y)\n",
    "        test_loss += loss.detach().cpu().item() / len(test_loader)\n",
    "\n",
    "        correct += torch.sum(torch.argmax(y_hat, dim=1) == y).detach().cpu().item()\n",
    "        total += len(x)\n",
    "    print(f\"Test loss: {test_loss:.2f}\")\n",
    "    print(f\"Test accuracy: {correct / total * 100:.2f}%\")"
   ]
  }
 ],
 "metadata": {
  "kernelspec": {
   "display_name": "DeepLearning",
   "language": "python",
   "name": "python3"
  },
  "language_info": {
   "codemirror_mode": {
    "name": "ipython",
    "version": 3
   },
   "file_extension": ".py",
   "mimetype": "text/x-python",
   "name": "python",
   "nbconvert_exporter": "python",
   "pygments_lexer": "ipython3",
   "version": "3.10.11"
  }
 },
 "nbformat": 4,
 "nbformat_minor": 2
}
