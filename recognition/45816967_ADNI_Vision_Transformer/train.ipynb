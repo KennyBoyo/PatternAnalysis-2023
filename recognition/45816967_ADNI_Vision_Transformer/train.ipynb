{
 "cells": [
  {
   "cell_type": "code",
   "execution_count": 1,
   "metadata": {},
   "outputs": [
    {
     "name": "stderr",
     "output_type": "stream",
     "text": [
      "c:\\Users\\Jun Khai\\miniconda3\\envs\\DeepLearning\\lib\\site-packages\\requests\\__init__.py:109: RequestsDependencyWarning: urllib3 (2.0.4) or chardet (None)/charset_normalizer (2.1.1) doesn't match a supported version!\n",
      "  warnings.warn(\n"
     ]
    }
   ],
   "source": [
    "import torch\n",
    "from torch.utils.data import DataLoader\n",
    "import matplotlib.pyplot as plt\n",
    "from dataset import *\n",
    "from vit import *\n",
    "import torch.optim as optim\n",
    "from tqdm import tqdm\n",
    "from train import *\n",
    "from torch.utils.data import DataLoader\n"
   ]
  },
  {
   "cell_type": "code",
   "execution_count": 2,
   "metadata": {},
   "outputs": [],
   "source": [
    "\n",
    "train_imgs, test_imgs = load_adni_images(verbose = False)\n",
    "\n",
    "train_set = ADNIDataset(train_imgs[0], transform=standardTransform)\n",
    "val_set = ADNIDataset(train_imgs[1], transform=standardTransform)\n",
    "test_set = ADNIDataset(test_imgs[0], transform=standardTransform)\n",
    "\n",
    "train_loader = DataLoader(train_set, batch_size=2)\n",
    "val_loader = DataLoader(val_set, batch_size=2)\n",
    "test_loader = DataLoader(test_set, batch_size=2)"
   ]
  },
  {
   "cell_type": "code",
   "execution_count": 4,
   "metadata": {},
   "outputs": [
    {
     "name": "stdout",
     "output_type": "stream",
     "text": [
      "ViT(\n",
      "  (patch_to_embedding): Linear(in_features=3072, out_features=1024, bias=True)\n",
      "  (transformer): ModuleList(\n",
      "    (0-5): 6 x TransformerEncoderLayer(\n",
      "      (self_attn): MultiheadAttention(\n",
      "        (out_proj): NonDynamicallyQuantizableLinear(in_features=1024, out_features=1024, bias=True)\n",
      "      )\n",
      "      (linear1): Linear(in_features=1024, out_features=2048, bias=True)\n",
      "      (dropout): Dropout(p=0.1, inplace=False)\n",
      "      (linear2): Linear(in_features=2048, out_features=1024, bias=True)\n",
      "      (norm1): LayerNorm((1024,), eps=1e-05, elementwise_affine=True)\n",
      "      (norm2): LayerNorm((1024,), eps=1e-05, elementwise_affine=True)\n",
      "      (dropout1): Dropout(p=0.1, inplace=False)\n",
      "      (dropout2): Dropout(p=0.1, inplace=False)\n",
      "    )\n",
      "  )\n",
      "  (to_cls_token): Identity()\n",
      "  (mlp_head): Sequential(\n",
      "    (0): Linear(in_features=1024, out_features=2048, bias=True)\n",
      "    (1): Dropout(p=0.1, inplace=False)\n",
      "    (2): ReLU()\n",
      "    (3): Linear(in_features=2048, out_features=2, bias=True)\n",
      "  )\n",
      ")\n"
     ]
    },
    {
     "name": "stderr",
     "output_type": "stream",
     "text": [
      "  0%|          | 0/8610 [00:00<?, ?it/s]\n"
     ]
    },
    {
     "ename": "RuntimeError",
     "evalue": "mat1 and mat2 must have the same dtype",
     "output_type": "error",
     "traceback": [
      "\u001b[1;31m---------------------------------------------------------------------------\u001b[0m",
      "\u001b[1;31mRuntimeError\u001b[0m                              Traceback (most recent call last)",
      "\u001b[1;32mc:\\Users\\Jun Khai\\Documents\\Uni\\Year 5 Sem 2\\PatternAnalysis-2023\\recognition\\45816967_ADNI_Vision_Transformer\\train.ipynb Cell 3\u001b[0m line \u001b[0;36m3\n\u001b[0;32m     <a href='vscode-notebook-cell:/c%3A/Users/Jun%20Khai/Documents/Uni/Year%205%20Sem%202/PatternAnalysis-2023/recognition/45816967_ADNI_Vision_Transformer/train.ipynb#W2sZmlsZQ%3D%3D?line=36'>37</a>\u001b[0m model \u001b[39m=\u001b[39m ViT(image_size\u001b[39m=\u001b[39m\u001b[39m128\u001b[39m, patch_size\u001b[39m=\u001b[39m\u001b[39m32\u001b[39m, num_classes\u001b[39m=\u001b[39m\u001b[39m2\u001b[39m, dim\u001b[39m=\u001b[39m\u001b[39m1024\u001b[39m, depth\u001b[39m=\u001b[39m\u001b[39m6\u001b[39m, heads\u001b[39m=\u001b[39m\u001b[39m16\u001b[39m, mlp_dim\u001b[39m=\u001b[39m\u001b[39m2048\u001b[39m, dropout\u001b[39m=\u001b[39m\u001b[39m0.1\u001b[39m)\n\u001b[0;32m     <a href='vscode-notebook-cell:/c%3A/Users/Jun%20Khai/Documents/Uni/Year%205%20Sem%202/PatternAnalysis-2023/recognition/45816967_ADNI_Vision_Transformer/train.ipynb#W2sZmlsZQ%3D%3D?line=37'>38</a>\u001b[0m \u001b[39mprint\u001b[39m(model)\n\u001b[1;32m---> <a href='vscode-notebook-cell:/c%3A/Users/Jun%20Khai/Documents/Uni/Year%205%20Sem%202/PatternAnalysis-2023/recognition/45816967_ADNI_Vision_Transformer/train.ipynb#W2sZmlsZQ%3D%3D?line=38'>39</a>\u001b[0m train(model, train_loader, val_loader, nn\u001b[39m.\u001b[39;49mCrossEntropyLoss(), n_epochs\u001b[39m=\u001b[39;49m\u001b[39m10\u001b[39;49m, lr\u001b[39m=\u001b[39;49m\u001b[39m0.001\u001b[39;49m)\n",
      "\u001b[1;32mc:\\Users\\Jun Khai\\Documents\\Uni\\Year 5 Sem 2\\PatternAnalysis-2023\\recognition\\45816967_ADNI_Vision_Transformer\\train.ipynb Cell 3\u001b[0m line \u001b[0;36m1\n\u001b[0;32m     <a href='vscode-notebook-cell:/c%3A/Users/Jun%20Khai/Documents/Uni/Year%205%20Sem%202/PatternAnalysis-2023/recognition/45816967_ADNI_Vision_Transformer/train.ipynb#W2sZmlsZQ%3D%3D?line=9'>10</a>\u001b[0m \u001b[39mfor\u001b[39;00m imgs, labels \u001b[39min\u001b[39;00m tqdm(train_loader):\n\u001b[0;32m     <a href='vscode-notebook-cell:/c%3A/Users/Jun%20Khai/Documents/Uni/Year%205%20Sem%202/PatternAnalysis-2023/recognition/45816967_ADNI_Vision_Transformer/train.ipynb#W2sZmlsZQ%3D%3D?line=10'>11</a>\u001b[0m   optimizer\u001b[39m.\u001b[39mzero_grad()\n\u001b[1;32m---> <a href='vscode-notebook-cell:/c%3A/Users/Jun%20Khai/Documents/Uni/Year%205%20Sem%202/PatternAnalysis-2023/recognition/45816967_ADNI_Vision_Transformer/train.ipynb#W2sZmlsZQ%3D%3D?line=11'>12</a>\u001b[0m   out \u001b[39m=\u001b[39m model(imgs)\n\u001b[0;32m     <a href='vscode-notebook-cell:/c%3A/Users/Jun%20Khai/Documents/Uni/Year%205%20Sem%202/PatternAnalysis-2023/recognition/45816967_ADNI_Vision_Transformer/train.ipynb#W2sZmlsZQ%3D%3D?line=12'>13</a>\u001b[0m   loss \u001b[39m=\u001b[39m criterion(out, labels)\n\u001b[0;32m     <a href='vscode-notebook-cell:/c%3A/Users/Jun%20Khai/Documents/Uni/Year%205%20Sem%202/PatternAnalysis-2023/recognition/45816967_ADNI_Vision_Transformer/train.ipynb#W2sZmlsZQ%3D%3D?line=13'>14</a>\u001b[0m   loss\u001b[39m.\u001b[39mbackward()\n",
      "File \u001b[1;32m~\\AppData\\Roaming\\Python\\Python310\\site-packages\\torch\\nn\\modules\\module.py:1501\u001b[0m, in \u001b[0;36mModule._call_impl\u001b[1;34m(self, *args, **kwargs)\u001b[0m\n\u001b[0;32m   1496\u001b[0m \u001b[39m# If we don't have any hooks, we want to skip the rest of the logic in\u001b[39;00m\n\u001b[0;32m   1497\u001b[0m \u001b[39m# this function, and just call forward.\u001b[39;00m\n\u001b[0;32m   1498\u001b[0m \u001b[39mif\u001b[39;00m \u001b[39mnot\u001b[39;00m (\u001b[39mself\u001b[39m\u001b[39m.\u001b[39m_backward_hooks \u001b[39mor\u001b[39;00m \u001b[39mself\u001b[39m\u001b[39m.\u001b[39m_backward_pre_hooks \u001b[39mor\u001b[39;00m \u001b[39mself\u001b[39m\u001b[39m.\u001b[39m_forward_hooks \u001b[39mor\u001b[39;00m \u001b[39mself\u001b[39m\u001b[39m.\u001b[39m_forward_pre_hooks\n\u001b[0;32m   1499\u001b[0m         \u001b[39mor\u001b[39;00m _global_backward_pre_hooks \u001b[39mor\u001b[39;00m _global_backward_hooks\n\u001b[0;32m   1500\u001b[0m         \u001b[39mor\u001b[39;00m _global_forward_hooks \u001b[39mor\u001b[39;00m _global_forward_pre_hooks):\n\u001b[1;32m-> 1501\u001b[0m     \u001b[39mreturn\u001b[39;00m forward_call(\u001b[39m*\u001b[39margs, \u001b[39m*\u001b[39m\u001b[39m*\u001b[39mkwargs)\n\u001b[0;32m   1502\u001b[0m \u001b[39m# Do not call functions when jit is used\u001b[39;00m\n\u001b[0;32m   1503\u001b[0m full_backward_hooks, non_full_backward_hooks \u001b[39m=\u001b[39m [], []\n",
      "File \u001b[1;32mc:\\Users\\Jun Khai\\Documents\\Uni\\Year 5 Sem 2\\PatternAnalysis-2023\\recognition\\45816967_ADNI_Vision_Transformer\\vit.py:31\u001b[0m, in \u001b[0;36mViT.forward\u001b[1;34m(self, x)\u001b[0m\n\u001b[0;32m     29\u001b[0m x \u001b[39m=\u001b[39m x\u001b[39m.\u001b[39munfold(\u001b[39m2\u001b[39m, \u001b[39mself\u001b[39m\u001b[39m.\u001b[39mpatch_size, \u001b[39mself\u001b[39m\u001b[39m.\u001b[39mpatch_size)\u001b[39m.\u001b[39munfold(\u001b[39m3\u001b[39m, \u001b[39mself\u001b[39m\u001b[39m.\u001b[39mpatch_size, \u001b[39mself\u001b[39m\u001b[39m.\u001b[39mpatch_size)\n\u001b[0;32m     30\u001b[0m x \u001b[39m=\u001b[39m x\u001b[39m.\u001b[39mreshape(x\u001b[39m.\u001b[39mshape[\u001b[39m0\u001b[39m], x\u001b[39m.\u001b[39mshape[\u001b[39m2\u001b[39m] \u001b[39m*\u001b[39m x\u001b[39m.\u001b[39mshape[\u001b[39m3\u001b[39m], \u001b[39m-\u001b[39m\u001b[39m1\u001b[39m)\n\u001b[1;32m---> 31\u001b[0m x \u001b[39m=\u001b[39m \u001b[39mself\u001b[39;49m\u001b[39m.\u001b[39;49mpatch_to_embedding(x)\n\u001b[0;32m     32\u001b[0m cls_tokens \u001b[39m=\u001b[39m \u001b[39mself\u001b[39m\u001b[39m.\u001b[39mcls_token\u001b[39m.\u001b[39mexpand(x\u001b[39m.\u001b[39mshape[\u001b[39m0\u001b[39m], \u001b[39m-\u001b[39m\u001b[39m1\u001b[39m, \u001b[39m-\u001b[39m\u001b[39m1\u001b[39m)\n\u001b[0;32m     33\u001b[0m x \u001b[39m=\u001b[39m torch\u001b[39m.\u001b[39mcat((cls_tokens, x), dim\u001b[39m=\u001b[39m\u001b[39m1\u001b[39m)\n",
      "File \u001b[1;32m~\\AppData\\Roaming\\Python\\Python310\\site-packages\\torch\\nn\\modules\\module.py:1501\u001b[0m, in \u001b[0;36mModule._call_impl\u001b[1;34m(self, *args, **kwargs)\u001b[0m\n\u001b[0;32m   1496\u001b[0m \u001b[39m# If we don't have any hooks, we want to skip the rest of the logic in\u001b[39;00m\n\u001b[0;32m   1497\u001b[0m \u001b[39m# this function, and just call forward.\u001b[39;00m\n\u001b[0;32m   1498\u001b[0m \u001b[39mif\u001b[39;00m \u001b[39mnot\u001b[39;00m (\u001b[39mself\u001b[39m\u001b[39m.\u001b[39m_backward_hooks \u001b[39mor\u001b[39;00m \u001b[39mself\u001b[39m\u001b[39m.\u001b[39m_backward_pre_hooks \u001b[39mor\u001b[39;00m \u001b[39mself\u001b[39m\u001b[39m.\u001b[39m_forward_hooks \u001b[39mor\u001b[39;00m \u001b[39mself\u001b[39m\u001b[39m.\u001b[39m_forward_pre_hooks\n\u001b[0;32m   1499\u001b[0m         \u001b[39mor\u001b[39;00m _global_backward_pre_hooks \u001b[39mor\u001b[39;00m _global_backward_hooks\n\u001b[0;32m   1500\u001b[0m         \u001b[39mor\u001b[39;00m _global_forward_hooks \u001b[39mor\u001b[39;00m _global_forward_pre_hooks):\n\u001b[1;32m-> 1501\u001b[0m     \u001b[39mreturn\u001b[39;00m forward_call(\u001b[39m*\u001b[39margs, \u001b[39m*\u001b[39m\u001b[39m*\u001b[39mkwargs)\n\u001b[0;32m   1502\u001b[0m \u001b[39m# Do not call functions when jit is used\u001b[39;00m\n\u001b[0;32m   1503\u001b[0m full_backward_hooks, non_full_backward_hooks \u001b[39m=\u001b[39m [], []\n",
      "File \u001b[1;32m~\\AppData\\Roaming\\Python\\Python310\\site-packages\\torch\\nn\\modules\\linear.py:114\u001b[0m, in \u001b[0;36mLinear.forward\u001b[1;34m(self, input)\u001b[0m\n\u001b[0;32m    113\u001b[0m \u001b[39mdef\u001b[39;00m \u001b[39mforward\u001b[39m(\u001b[39mself\u001b[39m, \u001b[39minput\u001b[39m: Tensor) \u001b[39m-\u001b[39m\u001b[39m>\u001b[39m Tensor:\n\u001b[1;32m--> 114\u001b[0m     \u001b[39mreturn\u001b[39;00m F\u001b[39m.\u001b[39;49mlinear(\u001b[39minput\u001b[39;49m, \u001b[39mself\u001b[39;49m\u001b[39m.\u001b[39;49mweight, \u001b[39mself\u001b[39;49m\u001b[39m.\u001b[39;49mbias)\n",
      "\u001b[1;31mRuntimeError\u001b[0m: mat1 and mat2 must have the same dtype"
     ]
    }
   ],
   "source": [
    "def train(model, train_loader, val_loader, criterion, n_epochs, lr):\n",
    "  # Define and optimizer\n",
    "  optimizer = optim.Adam(model.parameters(), lr=lr)\n",
    "\n",
    "  # Train the model\n",
    "  for epoch in range(n_epochs):\n",
    "    # Train the model for one epoch\n",
    "    model.train()\n",
    "    train_loss = 0.0\n",
    "    for imgs, labels in tqdm(train_loader):\n",
    "      optimizer.zero_grad()\n",
    "      out = model(imgs)\n",
    "      loss = criterion(out, labels)\n",
    "      loss.backward()\n",
    "      optimizer.step()\n",
    "      train_loss += loss.item() * imgs.size(0)\n",
    "    train_loss /= len(train_loader.dataset)\n",
    "\n",
    "    # Evaluate the model on the validation set\n",
    "    model.eval()\n",
    "    val_loss = 0.0\n",
    "    val_acc = 0.0\n",
    "    with torch.no_grad():\n",
    "      for imgs, labels in tqdm(val_loader):\n",
    "        outputs = model(imgs)\n",
    "        loss = criterion(outputs, labels)\n",
    "        val_loss += loss.item() * imgs.size(0)\n",
    "        _, preds = torch.max(outputs, 1)\n",
    "        val_acc += torch.sum(preds == labels.data)\n",
    "    val_loss /= len(val_loader.dataset)\n",
    "    val_acc /= len(val_loader.dataset)\n",
    "\n",
    "    # Print the loss and accuracy for this epoch\n",
    "    print('Epoch [{}/{}], Train Loss: {:.4f}, Val Loss: {:.4f}, Val Acc: {:.4f}'\n",
    "        .format(epoch+1, n_epochs, train_loss, val_loss, val_acc))\n",
    "  \n",
    "model = ViT(image_size=128, patch_size=32, num_classes=2, dim=1024, depth=6, heads=16, mlp_dim=2048, dropout=0.1)\n",
    "print(model)\n",
    "train(model, train_loader, val_loader, nn.CrossEntropyLoss(), n_epochs=10, lr=0.001)"
   ]
  }
 ],
 "metadata": {
  "kernelspec": {
   "display_name": "DeepLearning",
   "language": "python",
   "name": "python3"
  },
  "language_info": {
   "codemirror_mode": {
    "name": "ipython",
    "version": 3
   },
   "file_extension": ".py",
   "mimetype": "text/x-python",
   "name": "python",
   "nbconvert_exporter": "python",
   "pygments_lexer": "ipython3",
   "version": "3.10.11"
  }
 },
 "nbformat": 4,
 "nbformat_minor": 2
}
